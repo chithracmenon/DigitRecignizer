{
 "cells": [
  {
   "cell_type": "code",
   "execution_count": 1,
   "metadata": {},
   "outputs": [],
   "source": [
    "from tkinter import *\n",
    "from PIL import Image\n",
    "from tensorflow.keras.models import load_model\n",
    "import numpy\n",
    "import PIL.ImageOps  \n",
    "import cv2 as cv"
   ]
  },
  {
   "cell_type": "code",
   "execution_count": null,
   "metadata": {},
   "outputs": [
    {
     "name": "stdout",
     "output_type": "stream",
     "text": [
      "0.8415632\n",
      "0.99432087\n",
      "0.99999964\n",
      "0.98981327\n"
     ]
    }
   ],
   "source": [
    "#load model\n",
    "model = load_model('model.h5')\n",
    "\n",
    "canvas_width = 200\n",
    "canvas_height = 300\n",
    "\n",
    "def paint( event ):\n",
    "   color = \"black\"\n",
    "   x1, y1 = ( event.x - 1 ), ( event.y - 1 )\n",
    "   x2, y2 = ( event.x + 1 ), ( event.y + 1 )\n",
    "   w.create_oval( x1, y1, x2, y2, fill = color, outline = color, width = 10)\n",
    "    \n",
    "\n",
    "def save_image():\n",
    "    w.postscript(file = 'fileName' + '.eps')\n",
    "    img = Image.open('fileName' + '.eps')\n",
    "    img.save('fileName' + '.png', 'png')\n",
    "    img = Image.open('fileName.png')\n",
    "    inverted_image = PIL.ImageOps.invert(img)\n",
    "    inverted_image.save('new_name.png')\n",
    "    im = cv.imread('new_name.png')\n",
    "    imgray = cv.cvtColor(im, cv.COLOR_BGR2GRAY)\n",
    "    ret, th = cv.threshold(imgray, 127, 255, 0)\n",
    "    contours = cv.findContours(th, cv.RETR_EXTERNAL, cv.CHAIN_APPROX_SIMPLE)[0]\n",
    "    \n",
    "    x, y, v, h = cv.boundingRect(contours)\n",
    "    cv.rectangle(im, (x, y), (x + v, y + h), (255, 0, 0), 1)\n",
    "    top = int(0.05 * th.shape[0])\n",
    "    bottom = top\n",
    "    left = int( 0.05 * th.shape[1])\n",
    "    right = left\n",
    "    th_up = cv.copyMakeBorder(th, top, bottom, left, right, cv.BORDER_REPLICATE)\n",
    "    roi = th[y-top: y+h+bottom, x-left: x+v+right]\n",
    "    img = cv.resize(roi, (28, 28), interpolation = cv.INTER_AREA)\n",
    "    img = img.reshape(1, 28, 28, 1)/255\n",
    "\n",
    "    if max(model.predict(img)[0]) > 0.95:\n",
    "        number = numpy.argmax(model.predict(img))\n",
    "        cnv_prdn.create_text( 100, 150, text = number, font = ('Times', '50', 'bold italic'))\n",
    "    else:\n",
    "        number = 'Not a number'\n",
    "        cnv_prdn.create_text( 100, 150, text = number, font = ('Times', '15', 'bold italic'))\n",
    "    \n",
    "\n",
    "def clear():\n",
    "    w.delete('all')\n",
    "    cnv_prdn.delete('all')\n",
    "    \n",
    "master = Tk()\n",
    "master.title( \"Digit Prediction\" )\n",
    "w = Canvas(master, bg= 'white',\n",
    "           width=canvas_width, \n",
    "           height=canvas_height)\n",
    "w.pack(expand = YES, fill = BOTH, side = 'left')\n",
    "w.bind( \"<B1-Motion>\", paint )\n",
    "cnv_prdn = Canvas(master, bg= 'white',\n",
    "           width=canvas_width, \n",
    "           height=canvas_height)\n",
    "cnv_prdn.pack(expand = YES, fill = BOTH, side = 'right')\n",
    "lbl_prdn = Label(cnv_prdn, text = 'Prediction', width=25, font = ('Helvetica', '10', 'bold italic'))\n",
    "lbl_prdn.pack(side = 'top')\n",
    "\n",
    "btn_submit = Button( master, text = \"Predict\",  width = 5, command = save_image )\n",
    "btn_submit.pack( side = 'right', padx = (5, 50))\n",
    "btn_clear = Button(master, text = 'Clear',  width = 5, command = clear)\n",
    "btn_clear.pack(side = 'right', padx = (50, 5))\n",
    "    \n",
    "mainloop()\n"
   ]
  },
  {
   "cell_type": "code",
   "execution_count": null,
   "metadata": {},
   "outputs": [],
   "source": []
  },
  {
   "cell_type": "code",
   "execution_count": null,
   "metadata": {},
   "outputs": [],
   "source": []
  },
  {
   "cell_type": "code",
   "execution_count": null,
   "metadata": {},
   "outputs": [],
   "source": []
  }
 ],
 "metadata": {
  "kernelspec": {
   "display_name": "Python 3",
   "language": "python",
   "name": "python3"
  },
  "language_info": {
   "codemirror_mode": {
    "name": "ipython",
    "version": 3
   },
   "file_extension": ".py",
   "mimetype": "text/x-python",
   "name": "python",
   "nbconvert_exporter": "python",
   "pygments_lexer": "ipython3",
   "version": "3.7.7"
  }
 },
 "nbformat": 4,
 "nbformat_minor": 4
}
